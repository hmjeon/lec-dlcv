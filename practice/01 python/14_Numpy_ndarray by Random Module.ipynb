{
 "cells": [
  {
   "cell_type": "markdown",
   "metadata": {
    "pycharm": {
     "name": "#%% md\n"
    }
   },
   "source": [
    "#### **14 Numpy - ndarray by Random Module**"
   ]
  },
  {
   "cell_type": "markdown",
   "metadata": {},
   "source": [
    "#### **Random 함수 활용**"
   ]
  },
  {
   "cell_type": "code",
   "execution_count": 5,
   "metadata": {
    "pycharm": {
     "name": "#%%\n"
    }
   },
   "outputs": [
    {
     "name": "stdout",
     "output_type": "stream",
     "text": [
      "[[0.29412234 0.60388779 0.0360101 ]\n",
      " [0.32685119 0.59222639 0.24276106]]\n",
      "[[-0.03684509  0.58742622 -0.18379014]\n",
      " [ 0.94874571 -1.26774813  0.34971905]]\n",
      "[69 71  8 44  3]\n"
     ]
    }
   ],
   "source": [
    "import numpy as np\n",
    "\n",
    "# 0, 1사이의 분포로 랜덤한 ndarray 생성\n",
    "print(np.random.rand(2, 3))\n",
    "\n",
    "# 정규분포로 샘플링된 랜덤 ndarray 생성\n",
    "print(np.random.randn(2, 3))\n",
    "\n",
    "# 특정 정수 사이에서 랜덤하게 샘플링\n",
    "print(np.random.randint(1, 100, size=(5,)))"
   ]
  },
  {
   "cell_type": "markdown",
   "metadata": {
    "pycharm": {
     "name": "#%% md\n"
    }
   },
   "source": [
    "#### **seed 함수; 동일한 결과값 생성**"
   ]
  },
  {
   "cell_type": "code",
   "execution_count": 9,
   "metadata": {
    "pycharm": {
     "name": "#%%\n"
    }
   },
   "outputs": [
    {
     "data": {
      "text/plain": [
       "array([[ 1.3315865 ,  0.71527897, -1.54540029, -0.00838385],\n",
       "       [ 0.62133597, -0.72008556,  0.26551159,  0.10854853],\n",
       "       [ 0.00429143, -0.17460021,  0.43302619,  1.20303737]])"
      ]
     },
     "execution_count": 9,
     "metadata": {},
     "output_type": "execute_result"
    }
   ],
   "source": [
    "np.random.seed(10)\n",
    "np.random.randn(3, 4)"
   ]
  },
  {
   "cell_type": "markdown",
   "metadata": {
    "pycharm": {
     "name": "#%% md\n"
    }
   },
   "source": [
    "#### **choice 함수 활용**\n",
    " - 주어진 1차원 ndarray로 부터 랜덤으로 샘플링\n",
    " - 정수가 주어진 경우, np.arange(해당숫자)로 간주"
   ]
  },
  {
   "cell_type": "code",
   "execution_count": 10,
   "metadata": {
    "pycharm": {
     "name": "#%%\n"
    }
   },
   "outputs": [
    {
     "data": {
      "text/plain": [
       "array([[72, 78, 49, 51],\n",
       "       [54, 77, 69, 13],\n",
       "       [25, 13, 92, 86]])"
      ]
     },
     "execution_count": 10,
     "metadata": {},
     "output_type": "execute_result"
    }
   ],
   "source": [
    "np.random.choice(100, size=(3, 4))"
   ]
  },
  {
   "cell_type": "code",
   "execution_count": 11,
   "metadata": {
    "pycharm": {
     "name": "#%%\n"
    }
   },
   "outputs": [
    {
     "data": {
      "text/plain": [
       "array([[3. , 1. ],\n",
       "       [1.5, 4.9]])"
      ]
     },
     "execution_count": 11,
     "metadata": {},
     "output_type": "execute_result"
    }
   ],
   "source": [
    "x = np.array([1, 2, 3, 1.5, 2.6, 4.9])\n",
    "np.random.choice(x, size=(2, 2), replace=False)"
   ]
  },
  {
   "cell_type": "markdown",
   "metadata": {
    "pycharm": {
     "name": "#%% md\n"
    }
   },
   "source": [
    "#### **확률분포에 따른 ndarray 생성**\n",
    "- uniform, normal 등"
   ]
  },
  {
   "cell_type": "code",
   "execution_count": 12,
   "metadata": {
    "pycharm": {
     "name": "#%%\n"
    }
   },
   "outputs": [
    {
     "data": {
      "text/plain": [
       "array([[1.13112653, 1.11288837, 2.53091164, 1.02357606, 2.22388668],\n",
       "       [1.66376451, 2.11929673, 1.67099929, 1.82236509, 1.153711  ],\n",
       "       [2.70608598, 1.87997491, 1.24390829, 2.46346925, 1.27756493],\n",
       "       [2.5337601 , 2.66397954, 1.61955611, 2.19516458, 2.74478492]])"
      ]
     },
     "execution_count": 12,
     "metadata": {},
     "output_type": "execute_result"
    }
   ],
   "source": [
    "np.random.uniform(1.0, 3.0, size=(4, 5))"
   ]
  },
  {
   "cell_type": "code",
   "execution_count": 13,
   "metadata": {
    "pycharm": {
     "name": "#%%\n"
    }
   },
   "outputs": [
    {
     "data": {
      "text/plain": [
       "array([[-1.34306988e+00,  1.45339286e+00,  1.16944865e-03,\n",
       "        -1.19203847e-02],\n",
       "       [ 7.15883143e-01, -1.18576855e+00, -6.36327905e-01,\n",
       "        -6.10813844e-01],\n",
       "       [-1.31939140e+00, -5.61728416e-01,  2.05384574e-01,\n",
       "        -9.53360676e-01]])"
      ]
     },
     "execution_count": 13,
     "metadata": {},
     "output_type": "execute_result"
    }
   ],
   "source": [
    "np.random.normal(size=(3, 4))\n",
    "np.random.randn(3, 4)"
   ]
  }
 ],
 "metadata": {
  "kernelspec": {
   "display_name": "Python 3 (ipykernel)",
   "language": "python",
   "name": "python3"
  },
  "language_info": {
   "codemirror_mode": {
    "name": "ipython",
    "version": 3
   },
   "file_extension": ".py",
   "mimetype": "text/x-python",
   "name": "python",
   "nbconvert_exporter": "python",
   "pygments_lexer": "ipython3",
   "version": "3.9.7"
  }
 },
 "nbformat": 4,
 "nbformat_minor": 4
}
