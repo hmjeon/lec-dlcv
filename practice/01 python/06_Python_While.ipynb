{
 "cells": [
  {
   "cell_type": "markdown",
   "metadata": {
    "pycharm": {
     "name": "#%% md\n"
    }
   },
   "source": [
    "#### **06 Python - 반복문(while)**"
   ]
  },
  {
   "cell_type": "markdown",
   "metadata": {
    "pycharm": {
     "name": "#%% md\n"
    }
   },
   "source": [
    "#### **리스트 아이템 출력**"
   ]
  },
  {
   "cell_type": "code",
   "execution_count": 15,
   "metadata": {
    "pycharm": {
     "name": "#%%\n"
    }
   },
   "outputs": [
    {
     "name": "stdout",
     "output_type": "stream",
     "text": [
      "index:  0 , value:  1\n",
      "index:  1 , value:  3\n",
      "index:  2 , value:  5\n",
      "index:  3 , value:  7\n",
      "index:  4 , value:  4\n",
      "index:  5 , value:  2\n",
      "index:  6 , value:  0\n"
     ]
    }
   ],
   "source": [
    "a = [1, 3, 5, 7, 4, 2, 0]\n",
    "i = 0\n",
    "\n",
    "while i < len(a):\n",
    "    print('index: ', i, ', value: ', a[i])\n",
    "    i += 1"
   ]
  },
  {
   "cell_type": "markdown",
   "metadata": {
    "pycharm": {
     "name": "#%% md\n"
    }
   },
   "source": [
    "#### **리스트 아이템 출력 with 조건문(if)**"
   ]
  },
  {
   "cell_type": "code",
   "execution_count": 16,
   "metadata": {
    "pycharm": {
     "name": "#%%\n"
    }
   },
   "outputs": [
    {
     "name": "stdout",
     "output_type": "stream",
     "text": [
      "index:  2 , value:  5\n",
      "index:  3 , value:  7\n",
      "index:  4 , value:  4\n"
     ]
    }
   ],
   "source": [
    "a = [1, 3, 5, 7, 4, 2, 0]\n",
    "i = 0\n",
    "\n",
    "while i < len(a):\n",
    "    if a[i] > 3:\n",
    "        print('index: ', i, ', value: ', a[i])\n",
    "    i += 1"
   ]
  },
  {
   "cell_type": "code",
   "execution_count": 17,
   "metadata": {
    "pycharm": {
     "name": "#%%\n"
    }
   },
   "outputs": [
    {
     "name": "stdout",
     "output_type": "stream",
     "text": [
      "value:  1 , odd number\n",
      "value:  3 , odd number\n",
      "value:  5 , odd number\n",
      "value:  7 , odd number\n",
      "value:  4 , even number\n",
      "value:  2 , even number\n",
      "value:  0 , even number\n"
     ]
    }
   ],
   "source": [
    "a = [1, 3, 5, 7, 4, 2, 0]\n",
    "i = 0\n",
    "\n",
    "while i < len(a):\n",
    "    if a[i] % 2:\n",
    "        print('value: ', a[i] , ', odd number')\n",
    "    else:\n",
    "        print('value: ', a[i] , ', even number')\n",
    "    i += 1"
   ]
  },
  {
   "cell_type": "markdown",
   "metadata": {
    "pycharm": {
     "name": "#%% md\n"
    }
   },
   "source": [
    "#### **무한루프(Infinite Loop)**"
   ]
  },
  {
   "cell_type": "code",
   "execution_count": 18,
   "metadata": {
    "pycharm": {
     "name": "#%%\n"
    },
    "scrolled": true,
    "tags": []
   },
   "outputs": [],
   "source": [
    "#while True:\n",
    "#    print('This is infinite loop')"
   ]
  },
  {
   "cell_type": "markdown",
   "metadata": {
    "pycharm": {
     "name": "#%% md\n"
    }
   },
   "source": [
    "#### **반복문 컨트롤 키워드 #1, break** "
   ]
  },
  {
   "cell_type": "code",
   "execution_count": 19,
   "metadata": {
    "pycharm": {
     "name": "#%%\n"
    }
   },
   "outputs": [
    {
     "name": "stdout",
     "output_type": "stream",
     "text": [
      "index:  0 , value:  1\n",
      "index:  1 , value:  3\n",
      "index:  2 , value:  5\n"
     ]
    }
   ],
   "source": [
    "a = [1, 3, 5, 7, 4, 2, 0]\n",
    "i = 0\n",
    "\n",
    "while i < len(a):\n",
    "    if a[i] > 6:\n",
    "        break\n",
    "    print('index: ', i, ', value: ', a[i])\n",
    "    i += 1"
   ]
  },
  {
   "cell_type": "markdown",
   "metadata": {
    "pycharm": {
     "name": "#%% md\n"
    }
   },
   "source": [
    "#### **반복문 컨트롤 키워드 #2, continue**"
   ]
  },
  {
   "cell_type": "code",
   "execution_count": 25,
   "metadata": {
    "pycharm": {
     "name": "#%%\n"
    }
   },
   "outputs": [
    {
     "name": "stdout",
     "output_type": "stream",
     "text": [
      "6\n",
      "3\n",
      "2\n",
      "1\n",
      "0\n"
     ]
    }
   ],
   "source": [
    "a = 7\n",
    "while a > 0:\n",
    "    a -= 1\n",
    "    if a == 4 or a == 5:\n",
    "        continue\n",
    "    print(a)"
   ]
  },
  {
   "cell_type": "markdown",
   "metadata": {
    "pycharm": {
     "name": "#%% md\n"
    }
   },
   "source": [
    "#### **반복문 연습, 1 - 100까지 더하기**"
   ]
  },
  {
   "cell_type": "code",
   "execution_count": 26,
   "metadata": {
    "pycharm": {
     "name": "#%%\n"
    }
   },
   "outputs": [
    {
     "name": "stdout",
     "output_type": "stream",
     "text": [
      "2 1\n",
      "3 3\n",
      "4 6\n",
      "5 10\n",
      "6 15\n",
      "7 21\n",
      "8 28\n",
      "9 36\n",
      "10 45\n",
      "11 55\n",
      "최종 값:  55\n"
     ]
    }
   ],
   "source": [
    "num = 1\n",
    "temp = 0\n",
    "\n",
    "while num <= 10:\n",
    "    temp += num\n",
    "    num += 1\n",
    "    print(num, temp)\n",
    "    \n",
    "print('최종 값: ', temp)"
   ]
  }
 ],
 "metadata": {
  "kernelspec": {
   "display_name": "Python 3 (ipykernel)",
   "language": "python",
   "name": "python3"
  },
  "language_info": {
   "codemirror_mode": {
    "name": "ipython",
    "version": 3
   },
   "file_extension": ".py",
   "mimetype": "text/x-python",
   "name": "python",
   "nbconvert_exporter": "python",
   "pygments_lexer": "ipython3",
   "version": "3.9.7"
  }
 },
 "nbformat": 4,
 "nbformat_minor": 4
}
