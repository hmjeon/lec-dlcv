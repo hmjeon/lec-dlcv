{
 "cells": [
  {
   "cell_type": "markdown",
   "metadata": {},
   "source": [
    "#### **11 Python - Class**"
   ]
  },
  {
   "cell_type": "markdown",
   "metadata": {},
   "source": [
    "#### **Class**\n",
    "- 실세계의 것을 모델링하여 속성(attribute)와 동작(method)를 갖는 데이터 타입\n",
    "- python에서의 string, int, list, dict.. 모두가 다 클래스로 존재\n",
    "- 예를들어 학생이라는 클래스를 만든다면, 학생을 나타내는 속성과 학생이 행하는 행동을 함께 정의 할 수 있음\n",
    "- 따라서, 다루고자 하는 데이터(변수) 와 데이터를 다루는 연산(함수)를 하나로 캡슐화(encapsulation)하여 클래스로 표현\n",
    "- 모델링에서 중요시 하는 속성에 따라 클래스의 속성과 행동이 각각 달라짐\n",
    " \n",
    "#### **Object**\n",
    "- 클래스로 생성되어 구체화된 객체(인스턴스)\n",
    "- 파이썬의 모든 것(int, str, list..etc)은 객체(인스턴스)\n",
    "- 실제로 class가 인스턴스화 되어 메모리에 상주하는 상태를 의미\n",
    "- class가 빵틀이라면, object는 실제로 빵틀로 찍어낸 빵이라고 비유 가능"
   ]
  },
  {
   "cell_type": "markdown",
   "metadata": {},
   "source": [
    "#### **Class 선언**\n",
    "- 객체를 생성하기 위해선 객체의 모체가 되는 class를 미리 선언해야 함 "
   ]
  },
  {
   "cell_type": "code",
   "execution_count": 2,
   "metadata": {},
   "outputs": [],
   "source": [
    "class Person:\n",
    "    pass"
   ]
  },
  {
   "cell_type": "code",
   "execution_count": 3,
   "metadata": {},
   "outputs": [
    {
     "name": "stdout",
     "output_type": "stream",
     "text": [
      "<class '__main__.Person'> <class '__main__.Person'>\n",
      "<class 'list'> <class 'list'>\n"
     ]
    }
   ],
   "source": [
    "bob = Person()\n",
    "cathy = Person()\n",
    "\n",
    "a = list()\n",
    "b = list()\n",
    "\n",
    "print(type(bob), type(cathy))\n",
    "print(type(a), type(b))"
   ]
  },
  {
   "cell_type": "markdown",
   "metadata": {},
   "source": [
    "#### **\\_\\_init__(self)**\n",
    "- 생성자, 클래스 인스턴스가 생성될 때 호출됨\n",
    "- self인자는 항상 첫번째에 오며 자기 자신을 가리킴\n",
    "- 이름이 꼭 self일 필요는 없지만, 관례적으로 self로 사용\n",
    "- 생성자에서는 해당 클래스가 다루는 데이터를 정의\n",
    "   - 이 데이터를 멤버 변수(member variable) 또는 속성(attribute)라고 함"
   ]
  },
  {
   "cell_type": "code",
   "execution_count": 4,
   "metadata": {},
   "outputs": [
    {
     "name": "stdout",
     "output_type": "stream",
     "text": [
      "<__main__.Person object at 0x7f8219848f40> is generated\n",
      "<__main__.Person object at 0x7f8219857250> is generated\n",
      "aaron 20\n"
     ]
    }
   ],
   "source": [
    "class Person:\n",
    "    def __init__(self):\n",
    "        print(self, 'is generated')\n",
    "        self.name = 'Kate'\n",
    "        self.age = 10\n",
    "        \n",
    "p1 = Person()\n",
    "p2 = Person()\n",
    "\n",
    "p1.name = 'aaron'\n",
    "p1.age = 20\n",
    "\n",
    "print(p1.name, p1.age)"
   ]
  },
  {
   "cell_type": "code",
   "execution_count": 5,
   "metadata": {},
   "outputs": [
    {
     "name": "stdout",
     "output_type": "stream",
     "text": [
      "Bob 30\n",
      "Kate 20\n",
      "Aaron 10\n"
     ]
    }
   ],
   "source": [
    "class Person:\n",
    "    def __init__(self, name, age=10):\n",
    "        # print(self, 'is generated')\n",
    "        self.name = name\n",
    "        self.age = age\n",
    "        \n",
    "p1 = Person('Bob', 30)\n",
    "p2 = Person('Kate', 20)\n",
    "p3 = Person('Aaron')\n",
    "\n",
    "print(p1.name, p1.age)\n",
    "print(p2.name, p2.age)\n",
    "print(p3.name, p3.age)"
   ]
  },
  {
   "cell_type": "markdown",
   "metadata": {},
   "source": [
    "#### **self**\n",
    " - 파이썬의 method는 항상 첫번째 인자로 self를 전달\n",
    " - self는 현재 해당 메쏘드가 호출되는 객체 자신을 가리킴\n",
    " - C++/C#, Java의 this에 해당\n",
    " - 역시, 이름이 self일 필요는 없으나, 위치는 항상 맨 처음의 parameter이며 관례적으로 self로 사용"
   ]
  },
  {
   "cell_type": "code",
   "execution_count": 7,
   "metadata": {},
   "outputs": [
    {
     "name": "stdout",
     "output_type": "stream",
     "text": [
      "<__main__.Person object at 0x7f821c87d5b0>\n",
      "<__main__.Person object at 0x7f821c87dac0>\n",
      "Aaron 은 잠을 잡니다.\n",
      "Bob 은 잠을 잡니다.\n"
     ]
    }
   ],
   "source": [
    "class Person:\n",
    "    def __init__(self, name, age):\n",
    "        #print('self: ', self)\n",
    "        self.name = name\n",
    "        self.age = age\n",
    "        \n",
    "    def sleep(self):\n",
    "        #print('self:', self)\n",
    "        print(self.name, '은 잠을 잡니다.')\n",
    "        \n",
    "a = Person('Aaron', 20)\n",
    "b = Person('Bob', 30)\n",
    "\n",
    "print(a)\n",
    "print(b)\n",
    "\n",
    "a.sleep()\n",
    "b.sleep()\n"
   ]
  },
  {
   "cell_type": "markdown",
   "metadata": {},
   "source": [
    "#### **Mehtod 정의**\n",
    " + 멤버함수라고도 하며, 해당 클래스의 object에서만 호출가능\n",
    " + 메쏘드는 객체 레벨에서 호출되며, 해당 객체의 속성에 대한 연산을 행함\n",
    " + {obj}.{method}() 형태로 호출됨"
   ]
  },
  {
   "cell_type": "code",
   "execution_count": null,
   "metadata": {},
   "outputs": [],
   "source": [
    "# 1. 숫자를 하나 증가\n",
    "# 2. 숫자를 0으로 초기화\n",
    "class Counter:\n",
    "    def __init__(self):\n",
    "        self.num = 0\n",
    "        \n",
    "    def increment(self):\n",
    "        self.num += 1\n",
    "    \n",
    "    def reset(self):\n",
    "        self.num = 0\n",
    "        \n",
    "    def print_current_value(self):\n",
    "        print('현재값은:', self.num)\n",
    "        \n",
    "    \n",
    "c1 = Counter()\n",
    "c1.print_current_value()\n",
    "c1.increment()\n",
    "c1.increment()\n",
    "c1.increment()\n",
    "c1.print_current_value()\n",
    "\n",
    "c1.reset()\n",
    "\n",
    "c1.print_current_value()\n",
    "\n",
    "c2 = Counter()\n",
    "c2.increment()\n",
    "c2.print_current_value()"
   ]
  },
  {
   "cell_type": "markdown",
   "metadata": {},
   "source": [
    "#### **Method type**\n",
    " - instance method - 객체로 호출\n",
    "   - 메쏘드는 객체 레벨로 호출 되기 때문에, 해당 메쏘드를 호출한 객체에만 영향을 미침\n",
    " - class method(static method) - class로 호출\n",
    "   - 클래스 메쏘드의 경우, 클래스 레벨로 호출되기 때문에, 클래스 멤버 변수만 변경 가능\n"
   ]
  },
  {
   "cell_type": "code",
   "execution_count": null,
   "metadata": {},
   "outputs": [],
   "source": [
    "class Math:\n",
    "    @staticmethod\n",
    "    def add(a, b):\n",
    "        return a + b\n",
    "    \n",
    "    @staticmethod\n",
    "    def multiply(a, b):\n",
    "        return a * b\n",
    "    \n",
    "Math.add(10, 20)\n",
    "Math.multiply(10, 20)"
   ]
  },
  {
   "cell_type": "markdown",
   "metadata": {},
   "source": [
    " #### **Class 상속(Inheritance)**\n",
    "  - 기존에 정의해둔 클래스의 기능을 그대로 물려받을 수 있다.\n",
    "  - 기존 클래스에 기능 일부를 추가하거나, 변경하여 새로운 클래스를 정의한다.\n",
    "  - 코드를 재사용할 수 있게된다.\n",
    "  - 상속 받고자 하는 대상인 기존 클래스는 (Parent, Super, Base class 라고 부른다.)\n",
    "  - 상속 받는 새로운 클래스는(Child, Sub, Derived class 라고 부른다.)\n",
    "  - 의미적으로 is-a관계를 갖는다"
   ]
  },
  {
   "cell_type": "code",
   "execution_count": null,
   "metadata": {},
   "outputs": [],
   "source": [
    "class Person:\n",
    "    def __init__(self, name, age):\n",
    "        self.name = name\n",
    "        self.age = age\n",
    "        \n",
    "    def eat(self, food):\n",
    "        print('{}은 {}를 먹습니다.'.format(self.name, food))\n",
    "    \n",
    "    def sleep(self, minute):\n",
    "        print('{}은 {}분동안 잡니다.'.format(self.name, minute))\n",
    "    \n",
    "    def work(self, minute):\n",
    "        print('{}은 {}분동안 일합니다.'.format(self.name, minute))\n",
    "\n",
    "class Student(Person):\n",
    "    def __init__(self, name, age):\n",
    "        self.name = name\n",
    "        self.age = age\n",
    "    \n",
    "class Employee(Person):\n",
    "    def __init__(self, name, age):\n",
    "        self.name = name\n",
    "        self.age = age\n",
    "\n",
    "bob = Employee('Bob', 25)\n",
    "bob.eat('BBQ')\n",
    "bob.sleep(30)\n",
    "bob.work(60)\n",
    "    \n",
    "    "
   ]
  },
  {
   "cell_type": "markdown",
   "metadata": {},
   "source": [
    "#### **method override**\n",
    " - 부모 클래스의 method를 재정의(override)\n",
    " - 하위 클래스(자식 클래스) 의 인스턴스로 호출시, 재정의된 메소드가 호출됨"
   ]
  },
  {
   "cell_type": "code",
   "execution_count": null,
   "metadata": {},
   "outputs": [],
   "source": [
    "class Person:\n",
    "    def __init__(self, name, age):\n",
    "        self.name = name\n",
    "        self.age = age\n",
    "        \n",
    "    def eat(self, food):\n",
    "        print('{}은 {}를 먹습니다.'.format(self.name, food))\n",
    "    \n",
    "    def sleep(self, minute):\n",
    "        print('{}은 {}분동안 잡니다.'.format(self.name, minute))\n",
    "    \n",
    "    def work(self, minute):\n",
    "        print('{}은 {}분동안 일합니다.'.format(self.name, minute))\n",
    "\n",
    "class Student(Person):\n",
    "    def __init__(self, name, age):\n",
    "        self.name = name\n",
    "        self.age = age\n",
    "        \n",
    "    def work(self, minute):\n",
    "        print('{}은 {}분동안 공부합니다.'.format(self.name, minute))\n",
    "        \n",
    "class Employee(Person):\n",
    "    def __init__(self, name, age):\n",
    "        self.name = name\n",
    "        self.age = age\n",
    "        \n",
    "    def work(self, minute):\n",
    "        print('{}은 {}분동안 업무를 합니다.'.format(self.name, minute))\n",
    "        \n",
    "bob = Employee('Bob', 25)\n",
    "bob.eat('BBQ')\n",
    "bob.sleep(30)\n",
    "bob.work(60)"
   ]
  },
  {
   "cell_type": "markdown",
   "metadata": {},
   "source": [
    "#### **super**\n",
    " - 하위클래스(자식 클래스)에서 부모클래스의 method를 호출할 때 사용"
   ]
  },
  {
   "cell_type": "code",
   "execution_count": null,
   "metadata": {},
   "outputs": [],
   "source": [
    "class Person:\n",
    "    def __init__(self, name, age):\n",
    "        self.name = name\n",
    "        self.age = age\n",
    "        \n",
    "    def eat(self, food):\n",
    "        print('{}은 {}를 먹습니다.'.format(self.name, food))\n",
    "    \n",
    "    def sleep(self, minute):\n",
    "        print('{}은 {}분동안 잡니다.'.format(self.name, minute))\n",
    "    \n",
    "    def work(self, minute):\n",
    "        print('{}은 {}분동안 준비를 합니다.'.format(self.name, minute))\n",
    "\n",
    "class Student(Person):\n",
    "    def __init__(self, name, age):\n",
    "        self.name = name\n",
    "        self.age = age\n",
    "        \n",
    "    def work(self, minute):\n",
    "        super().work(minute)\n",
    "        print('{}은 {}분동안 공부합니다.'.format(self.name, minute))\n",
    "        \n",
    "class Employee(Person):\n",
    "    def __init__(self, name, age):\n",
    "        self.name = name\n",
    "        self.age = age\n",
    "        \n",
    "    def work(self, minute):\n",
    "        super().work(minute)\n",
    "        print('{}은 {}분동안 업무를 합니다.'.format(self.name, minute))\n",
    "        \n",
    "bob = Employee('Bob', 25)\n",
    "bob.eat('BBQ')\n",
    "bob.sleep(30)\n",
    "bob.work(60)"
   ]
  }
 ],
 "metadata": {
  "kernelspec": {
   "display_name": "Python 3 (ipykernel)",
   "language": "python",
   "name": "python3"
  },
  "language_info": {
   "codemirror_mode": {
    "name": "ipython",
    "version": 3
   },
   "file_extension": ".py",
   "mimetype": "text/x-python",
   "name": "python",
   "nbconvert_exporter": "python",
   "pygments_lexer": "ipython3",
   "version": "3.9.7"
  }
 },
 "nbformat": 4,
 "nbformat_minor": 4
}
